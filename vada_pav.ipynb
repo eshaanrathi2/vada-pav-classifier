{
  "nbformat": 4,
  "nbformat_minor": 0,
  "metadata": {
    "colab": {
      "name": "vada_pav.ipynb",
      "provenance": [],
      "collapsed_sections": [],
      "include_colab_link": true
    },
    "kernelspec": {
      "name": "python3",
      "display_name": "Python 3"
    },
    "accelerator": "GPU"
  },
  "cells": [
    {
      "cell_type": "markdown",
      "metadata": {
        "id": "view-in-github",
        "colab_type": "text"
      },
      "source": [
        "<a href=\"https://colab.research.google.com/github/eshaanrathi2/vada-pav-classifier/blob/master/vada_pav.ipynb\" target=\"_parent\"><img src=\"https://colab.research.google.com/assets/colab-badge.svg\" alt=\"Open In Colab\"/></a>"
      ]
    },
    {
      "cell_type": "code",
      "metadata": {
        "id": "xEQdaekjzVac",
        "colab_type": "code",
        "outputId": "622ad028-36bb-43c9-ea0b-fefac71d6e62",
        "colab": {
          "base_uri": "https://localhost:8080/",
          "height": 124
        }
      },
      "source": [
        "from google.colab import drive\n",
        "drive.mount('/content/gdrive')"
      ],
      "execution_count": 1,
      "outputs": [
        {
          "output_type": "stream",
          "text": [
            "Go to this URL in a browser: https://accounts.google.com/o/oauth2/auth?client_id=947318989803-6bn6qk8qdgf4n4g3pfee6491hc0brc4i.apps.googleusercontent.com&redirect_uri=urn%3aietf%3awg%3aoauth%3a2.0%3aoob&response_type=code&scope=email%20https%3a%2f%2fwww.googleapis.com%2fauth%2fdocs.test%20https%3a%2f%2fwww.googleapis.com%2fauth%2fdrive%20https%3a%2f%2fwww.googleapis.com%2fauth%2fdrive.photos.readonly%20https%3a%2f%2fwww.googleapis.com%2fauth%2fpeopleapi.readonly\n",
            "\n",
            "Enter your authorization code:\n",
            "··········\n",
            "Mounted at /content/gdrive\n"
          ],
          "name": "stdout"
        }
      ]
    },
    {
      "cell_type": "code",
      "metadata": {
        "id": "FLzEb9DiMKwg",
        "colab_type": "code",
        "colab": {
          "base_uri": "https://localhost:8080/",
          "height": 81
        },
        "outputId": "bb57e623-8ed8-4d2a-ac1d-fdddda51f61a"
      },
      "source": [
        "import numpy as np\n",
        "import matplotlib.pyplot as plt\n",
        "import os\n",
        "import cv2\n",
        "import keras\n",
        "from keras.layers import Dense, Activation, Conv2D, Flatten, Dropout, MaxPooling2D\n",
        "from keras.applications import InceptionV3\n",
        "from keras.applications.inception_v3 import preprocess_input #importing preprocessing unit for inceptionv3 has a different syntax\n",
        "from keras.preprocessing import image\n",
        "from keras.preprocessing.image import ImageDataGenerator, array_to_img, img_to_array, load_img\n",
        "from keras.models import Model, Sequential\n",
        "from keras.optimizers import Adam\n",
        "from keras.callbacks import ModelCheckpoint # to save our model"
      ],
      "execution_count": 2,
      "outputs": [
        {
          "output_type": "stream",
          "text": [
            "Using TensorFlow backend.\n"
          ],
          "name": "stderr"
        },
        {
          "output_type": "display_data",
          "data": {
            "text/html": [
              "<p style=\"color: red;\">\n",
              "The default version of TensorFlow in Colab will soon switch to TensorFlow 2.x.<br>\n",
              "We recommend you <a href=\"https://www.tensorflow.org/guide/migrate\" target=\"_blank\">upgrade</a> now \n",
              "or ensure your notebook will continue to use TensorFlow 1.x via the <code>%tensorflow_version 1.x</code> magic:\n",
              "<a href=\"https://colab.research.google.com/notebooks/tensorflow_version.ipynb\" target=\"_blank\">more info</a>.</p>\n"
            ],
            "text/plain": [
              "<IPython.core.display.HTML object>"
            ]
          },
          "metadata": {
            "tags": []
          }
        }
      ]
    },
    {
      "cell_type": "code",
      "metadata": {
        "id": "X7c-xMmF09vW",
        "colab_type": "code",
        "colab": {}
      },
      "source": [
        "datagen = ImageDataGenerator(rescale=1./255)"
      ],
      "execution_count": 0,
      "outputs": []
    },
    {
      "cell_type": "code",
      "metadata": {
        "id": "3LDXWxG3Tvd1",
        "colab_type": "code",
        "outputId": "ec23c6af-d018-471d-f96d-d87d521716fc",
        "colab": {
          "base_uri": "https://localhost:8080/",
          "height": 34
        }
      },
      "source": [
        "train_generator = datagen.flow_from_directory('/content/gdrive/My Drive/vada_pav/dataset/train', # this is where you specify the path to the main data folder\n",
        "                                                 target_size = (224,224),\n",
        "                                                 color_mode = 'rgb',\n",
        "                                                 batch_size = 32,\n",
        "                                                 shuffle = True)"
      ],
      "execution_count": 4,
      "outputs": [
        {
          "output_type": "stream",
          "text": [
            "Found 658 images belonging to 2 classes.\n"
          ],
          "name": "stdout"
        }
      ]
    },
    {
      "cell_type": "code",
      "metadata": {
        "id": "2SEf7wy5UBdP",
        "colab_type": "code",
        "outputId": "4bc4067f-a749-4408-93f8-065bb12a2bb5",
        "colab": {
          "base_uri": "https://localhost:8080/",
          "height": 34
        }
      },
      "source": [
        "test_generator = datagen.flow_from_directory('/content/gdrive/My Drive/vada_pav/dataset/test', # this is where you specify the path to the main data folder\n",
        "                                                 target_size = (224,224),\n",
        "                                                 color_mode = 'rgb',\n",
        "                                                 batch_size = 32,\n",
        "                                                 shuffle = True)"
      ],
      "execution_count": 5,
      "outputs": [
        {
          "output_type": "stream",
          "text": [
            "Found 159 images belonging to 2 classes.\n"
          ],
          "name": "stdout"
        }
      ]
    },
    {
      "cell_type": "markdown",
      "metadata": {
        "id": "H6o3SLlCeB98",
        "colab_type": "text"
      },
      "source": [
        "Architechture Construction : "
      ]
    },
    {
      "cell_type": "code",
      "metadata": {
        "id": "uoR4MbukeCTs",
        "colab_type": "code",
        "colab": {
          "base_uri": "https://localhost:8080/",
          "height": 523
        },
        "outputId": "1c77a98b-9aef-4351-cc6d-849eda4bf2b9"
      },
      "source": [
        "base_model = InceptionV3(weights = 'imagenet',include_top = False, input_shape = (224,224,3))\n",
        "x = Flatten()(base_model.output)\n",
        "x = Dense(2, activation = 'softmax')(x)\n",
        "\n",
        "model = Model(base_model.input, x)"
      ],
      "execution_count": 6,
      "outputs": [
        {
          "output_type": "stream",
          "text": [
            "WARNING:tensorflow:From /usr/local/lib/python3.6/dist-packages/keras/backend/tensorflow_backend.py:66: The name tf.get_default_graph is deprecated. Please use tf.compat.v1.get_default_graph instead.\n",
            "\n",
            "WARNING:tensorflow:From /usr/local/lib/python3.6/dist-packages/keras/backend/tensorflow_backend.py:541: The name tf.placeholder is deprecated. Please use tf.compat.v1.placeholder instead.\n",
            "\n",
            "WARNING:tensorflow:From /usr/local/lib/python3.6/dist-packages/keras/backend/tensorflow_backend.py:4432: The name tf.random_uniform is deprecated. Please use tf.random.uniform instead.\n",
            "\n",
            "WARNING:tensorflow:From /usr/local/lib/python3.6/dist-packages/keras/backend/tensorflow_backend.py:190: The name tf.get_default_session is deprecated. Please use tf.compat.v1.get_default_session instead.\n",
            "\n",
            "WARNING:tensorflow:From /usr/local/lib/python3.6/dist-packages/keras/backend/tensorflow_backend.py:197: The name tf.ConfigProto is deprecated. Please use tf.compat.v1.ConfigProto instead.\n",
            "\n",
            "WARNING:tensorflow:From /usr/local/lib/python3.6/dist-packages/keras/backend/tensorflow_backend.py:203: The name tf.Session is deprecated. Please use tf.compat.v1.Session instead.\n",
            "\n",
            "WARNING:tensorflow:From /usr/local/lib/python3.6/dist-packages/keras/backend/tensorflow_backend.py:207: The name tf.global_variables is deprecated. Please use tf.compat.v1.global_variables instead.\n",
            "\n",
            "WARNING:tensorflow:From /usr/local/lib/python3.6/dist-packages/keras/backend/tensorflow_backend.py:216: The name tf.is_variable_initialized is deprecated. Please use tf.compat.v1.is_variable_initialized instead.\n",
            "\n",
            "WARNING:tensorflow:From /usr/local/lib/python3.6/dist-packages/keras/backend/tensorflow_backend.py:223: The name tf.variables_initializer is deprecated. Please use tf.compat.v1.variables_initializer instead.\n",
            "\n",
            "WARNING:tensorflow:From /usr/local/lib/python3.6/dist-packages/keras/backend/tensorflow_backend.py:2041: The name tf.nn.fused_batch_norm is deprecated. Please use tf.compat.v1.nn.fused_batch_norm instead.\n",
            "\n",
            "WARNING:tensorflow:From /usr/local/lib/python3.6/dist-packages/keras/backend/tensorflow_backend.py:148: The name tf.placeholder_with_default is deprecated. Please use tf.compat.v1.placeholder_with_default instead.\n",
            "\n",
            "WARNING:tensorflow:From /usr/local/lib/python3.6/dist-packages/keras/backend/tensorflow_backend.py:4267: The name tf.nn.max_pool is deprecated. Please use tf.nn.max_pool2d instead.\n",
            "\n",
            "WARNING:tensorflow:From /usr/local/lib/python3.6/dist-packages/keras/backend/tensorflow_backend.py:4271: The name tf.nn.avg_pool is deprecated. Please use tf.nn.avg_pool2d instead.\n",
            "\n",
            "Downloading data from https://github.com/fchollet/deep-learning-models/releases/download/v0.5/inception_v3_weights_tf_dim_ordering_tf_kernels_notop.h5\n",
            "87916544/87910968 [==============================] - 2s 0us/step\n"
          ],
          "name": "stdout"
        }
      ]
    },
    {
      "cell_type": "code",
      "metadata": {
        "id": "1hlpAe8Hk0k4",
        "colab_type": "code",
        "colab": {}
      },
      "source": [
        "for layer in base_model.layers:\n",
        "    layer.trainable = False\n"
      ],
      "execution_count": 0,
      "outputs": []
    },
    {
      "cell_type": "code",
      "metadata": {
        "id": "qomLwH4PuMIv",
        "colab_type": "code",
        "colab": {
          "base_uri": "https://localhost:8080/",
          "height": 106
        },
        "outputId": "bbcf04f7-e761-468e-e1d0-711862c8f32b"
      },
      "source": [
        "model.compile(optimizer = Adam(lr=0.001), loss = 'categorical_crossentropy', metrics = ['accuracy'])"
      ],
      "execution_count": 8,
      "outputs": [
        {
          "output_type": "stream",
          "text": [
            "WARNING:tensorflow:From /usr/local/lib/python3.6/dist-packages/keras/optimizers.py:793: The name tf.train.Optimizer is deprecated. Please use tf.compat.v1.train.Optimizer instead.\n",
            "\n",
            "WARNING:tensorflow:From /usr/local/lib/python3.6/dist-packages/keras/backend/tensorflow_backend.py:3576: The name tf.log is deprecated. Please use tf.math.log instead.\n",
            "\n"
          ],
          "name": "stdout"
        }
      ]
    },
    {
      "cell_type": "code",
      "metadata": {
        "id": "U2gTZEQIwUpP",
        "colab_type": "code",
        "colab": {}
      },
      "source": [
        "checkpointer = ModelCheckpoint(filepath = '/content/gdrive/My Drive/vada_pav/weights.hdf5', verbose=1, save_best_only=True)"
      ],
      "execution_count": 0,
      "outputs": []
    },
    {
      "cell_type": "code",
      "metadata": {
        "id": "2Q0KagStysyF",
        "colab_type": "code",
        "colab": {}
      },
      "source": [
        "step_size_train = train_generator.n//train_generator.batch_size"
      ],
      "execution_count": 0,
      "outputs": []
    },
    {
      "cell_type": "markdown",
      "metadata": {
        "id": "eoZ8VSXz1QMQ",
        "colab_type": "text"
      },
      "source": [
        "Few images are corrupted. Hence following lines would solve the issue. Otherwise, a \"image file is truncated\" error will occur."
      ]
    },
    {
      "cell_type": "code",
      "metadata": {
        "id": "ZfLtLgT31I0k",
        "colab_type": "code",
        "colab": {}
      },
      "source": [
        "from PIL import ImageFile\n",
        "ImageFile.LOAD_TRUNCATED_IMAGES = True"
      ],
      "execution_count": 0,
      "outputs": []
    },
    {
      "cell_type": "markdown",
      "metadata": {
        "id": "DixF50xghwLZ",
        "colab_type": "text"
      },
      "source": [
        "Training : "
      ]
    },
    {
      "cell_type": "code",
      "metadata": {
        "id": "h91ALuYTxA6p",
        "colab_type": "code",
        "outputId": "6183e3e8-b9d5-4734-dd92-038f920eb7cf",
        "colab": {
          "base_uri": "https://localhost:8080/",
          "height": 749
        }
      },
      "source": [
        "history = model.fit(train_generator, epochs=15, callbacks = [checkpointer], steps_per_epoch = step_size_train)"
      ],
      "execution_count": 16,
      "outputs": [
        {
          "output_type": "stream",
          "text": [
            "WARNING:tensorflow:From /usr/local/lib/python3.6/dist-packages/tensorflow_core/python/ops/math_grad.py:1424: where (from tensorflow.python.ops.array_ops) is deprecated and will be removed in a future version.\n",
            "Instructions for updating:\n",
            "Use tf.where in 2.0, which has the same broadcast rule as np.where\n",
            "WARNING:tensorflow:From /usr/local/lib/python3.6/dist-packages/keras/backend/tensorflow_backend.py:1033: The name tf.assign_add is deprecated. Please use tf.compat.v1.assign_add instead.\n",
            "\n",
            "WARNING:tensorflow:From /usr/local/lib/python3.6/dist-packages/keras/backend/tensorflow_backend.py:1020: The name tf.assign is deprecated. Please use tf.compat.v1.assign instead.\n",
            "\n",
            "Epoch 1/15\n",
            "12/20 [=================>............] - ETA: 1:21 - loss: 1.7430 - acc: 0.6872"
          ],
          "name": "stdout"
        },
        {
          "output_type": "stream",
          "text": [
            "/usr/local/lib/python3.6/dist-packages/PIL/Image.py:914: UserWarning: Palette images with Transparency   expressed in bytes should be converted to RGBA images\n",
            "  'to RGBA images')\n"
          ],
          "name": "stderr"
        },
        {
          "output_type": "stream",
          "text": [
            "20/20 [==============================] - 199s 10s/step - loss: 1.3396 - acc: 0.7514\n",
            "Epoch 2/15\n"
          ],
          "name": "stdout"
        },
        {
          "output_type": "stream",
          "text": [
            "/usr/local/lib/python3.6/dist-packages/keras/callbacks.py:707: RuntimeWarning: Can save best model only with val_loss available, skipping.\n",
            "  'skipping.' % (self.monitor), RuntimeWarning)\n"
          ],
          "name": "stderr"
        },
        {
          "output_type": "stream",
          "text": [
            "20/20 [==============================] - 16s 817ms/step - loss: 0.2164 - acc: 0.9351\n",
            "Epoch 3/15\n",
            "20/20 [==============================] - 6s 290ms/step - loss: 0.1758 - acc: 0.9546\n",
            "Epoch 4/15\n",
            "20/20 [==============================] - 6s 323ms/step - loss: 0.0958 - acc: 0.9687\n",
            "Epoch 5/15\n",
            "20/20 [==============================] - 6s 288ms/step - loss: 0.1840 - acc: 0.9457\n",
            "Epoch 6/15\n",
            "20/20 [==============================] - 6s 301ms/step - loss: 0.4733 - acc: 0.8875\n",
            "Epoch 7/15\n",
            "20/20 [==============================] - 5s 254ms/step - loss: 0.3360 - acc: 0.9511\n",
            "Epoch 8/15\n",
            "20/20 [==============================] - 7s 329ms/step - loss: 0.0634 - acc: 0.9844\n",
            "Epoch 9/15\n",
            "20/20 [==============================] - 6s 320ms/step - loss: 0.0396 - acc: 0.9891\n",
            "Epoch 10/15\n",
            "20/20 [==============================] - 5s 247ms/step - loss: 0.0265 - acc: 0.9879\n",
            "Epoch 11/15\n",
            "20/20 [==============================] - 7s 331ms/step - loss: 0.0347 - acc: 0.9922\n",
            "Epoch 12/15\n",
            "20/20 [==============================] - 6s 282ms/step - loss: 0.0102 - acc: 0.9953\n",
            "Epoch 13/15\n",
            "20/20 [==============================] - 6s 303ms/step - loss: 0.0084 - acc: 0.9984\n",
            "Epoch 14/15\n",
            "20/20 [==============================] - 6s 300ms/step - loss: 0.0155 - acc: 0.9906\n",
            "Epoch 15/15\n",
            "20/20 [==============================] - 6s 318ms/step - loss: 0.0128 - acc: 0.9937\n"
          ],
          "name": "stdout"
        }
      ]
    },
    {
      "cell_type": "markdown",
      "metadata": {
        "id": "s1OMymsqhy9Y",
        "colab_type": "text"
      },
      "source": [
        "Evaluation (on unseen data) :"
      ]
    },
    {
      "cell_type": "code",
      "metadata": {
        "id": "fWDpx_AEgPk2",
        "colab_type": "code",
        "colab": {
          "base_uri": "https://localhost:8080/",
          "height": 52
        },
        "outputId": "4c2b5515-77fb-4d8d-fae8-5fdf990bf256"
      },
      "source": [
        "step_size_test = test_generator.n//test_generator.batch_size\n",
        "model.evaluate_generator(test_generator, verbose=1, steps=step_size_test)"
      ],
      "execution_count": 17,
      "outputs": [
        {
          "output_type": "stream",
          "text": [
            "4/4 [==============================] - 38s 10s/step\n"
          ],
          "name": "stdout"
        },
        {
          "output_type": "execute_result",
          "data": {
            "text/plain": [
              "[0.8926222249865532, 0.890625]"
            ]
          },
          "metadata": {
            "tags": []
          },
          "execution_count": 17
        }
      ]
    },
    {
      "cell_type": "markdown",
      "metadata": {
        "id": "lnMZUk42iobH",
        "colab_type": "text"
      },
      "source": [
        "Predictions : "
      ]
    },
    {
      "cell_type": "code",
      "metadata": {
        "id": "9HLON0CaCvNr",
        "colab_type": "code",
        "outputId": "3eaaed73-15e1-4dec-f702-e26f9f873e9c",
        "colab": {
          "base_uri": "https://localhost:8080/",
          "height": 34
        }
      },
      "source": [
        "test_generator.reset()\n",
        "preds = model.predict_generator(test_generator, steps= step_size_test, verbose=1)"
      ],
      "execution_count": 19,
      "outputs": [
        {
          "output_type": "stream",
          "text": [
            "4/4 [==============================] - 1s 241ms/step\n"
          ],
          "name": "stdout"
        }
      ]
    },
    {
      "cell_type": "code",
      "metadata": {
        "id": "AuYe0CNnDRwp",
        "colab_type": "code",
        "colab": {}
      },
      "source": [
        "predicted_class_indices = np.argmax(preds,axis=1)\n",
        "\n",
        "labels = (train_generator.class_indices)\n",
        "labels = dict((v,k) for k,v in labels.items())\n",
        "predictions = [labels[k] for k in predicted_class_indices]"
      ],
      "execution_count": 0,
      "outputs": []
    },
    {
      "cell_type": "code",
      "metadata": {
        "id": "3ZCkf1zUjWRy",
        "colab_type": "code",
        "colab": {
          "base_uri": "https://localhost:8080/",
          "height": 34
        },
        "outputId": "22e8f8db-cb27-44b9-e607-345a19b843b2"
      },
      "source": [
        "print(predictions[1], labels[1], predicted_class_indices[1] )"
      ],
      "execution_count": 28,
      "outputs": [
        {
          "output_type": "stream",
          "text": [
            "vada_pav vada_pav 1\n"
          ],
          "name": "stdout"
        }
      ]
    },
    {
      "cell_type": "code",
      "metadata": {
        "id": "1t7kfO2f-05j",
        "colab_type": "code",
        "colab": {}
      },
      "source": [
        "model.save_weights('/content/gdrive/My Drive/vada_pav/weights.hdf5')"
      ],
      "execution_count": 0,
      "outputs": []
    }
  ]
}