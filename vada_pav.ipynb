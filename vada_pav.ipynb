{
  "nbformat": 4,
  "nbformat_minor": 0,
  "metadata": {
    "colab": {
      "name": "vada_pav.ipynb",
      "provenance": [],
      "collapsed_sections": [],
      "include_colab_link": true
    },
    "kernelspec": {
      "name": "python3",
      "display_name": "Python 3"
    },
    "accelerator": "GPU"
  },
  "cells": [
    {
      "cell_type": "markdown",
      "metadata": {
        "id": "view-in-github",
        "colab_type": "text"
      },
      "source": [
        "<a href=\"https://colab.research.google.com/github/eshaanrathi2/vada-pav-classifier/blob/master/vada_pav.ipynb\" target=\"_parent\"><img src=\"https://colab.research.google.com/assets/colab-badge.svg\" alt=\"Open In Colab\"/></a>"
      ]
    },
    {
      "cell_type": "markdown",
      "metadata": {
        "id": "nSBJP7dJQUZI",
        "colab_type": "text"
      },
      "source": [
        "**First I created a dataset of vada_pav and not_vada_pav images via Google. Used Chrome store application for multiple images download. Cleaned the downloaded data and created Train and Test image folders having vada_pav and not_vada_pav each. I have uploaded these folders on my Google drive. Here's the link : \n",
        "https://drive.google.com/drive/folders/100tmP-8bvE2Fe99d0ihQEGqX1JpZkIFT?usp=sharing\n",
        "For not_vada_pav I used Indian food other than vada_pav, humans, places, things, random_objects etc.**"
      ]
    },
    {
      "cell_type": "markdown",
      "metadata": {
        "id": "bgg1jgs_PaUu",
        "colab_type": "text"
      },
      "source": [
        "**Mounting my Google drive with the Colab notebook. As the dataset is on my Google drive and would be saving weights over there.**"
      ]
    },
    {
      "cell_type": "code",
      "metadata": {
        "id": "xEQdaekjzVac",
        "colab_type": "code",
        "outputId": "06269557-f8ca-4352-d938-26cfca5f31c2",
        "colab": {
          "base_uri": "https://localhost:8080/",
          "height": 124
        }
      },
      "source": [
        "from google.colab import drive\n",
        "drive.mount('/content/gdrive')"
      ],
      "execution_count": 1,
      "outputs": [
        {
          "output_type": "stream",
          "text": [
            "Go to this URL in a browser: https://accounts.google.com/o/oauth2/auth?client_id=947318989803-6bn6qk8qdgf4n4g3pfee6491hc0brc4i.apps.googleusercontent.com&redirect_uri=urn%3aietf%3awg%3aoauth%3a2.0%3aoob&response_type=code&scope=email%20https%3a%2f%2fwww.googleapis.com%2fauth%2fdocs.test%20https%3a%2f%2fwww.googleapis.com%2fauth%2fdrive%20https%3a%2f%2fwww.googleapis.com%2fauth%2fdrive.photos.readonly%20https%3a%2f%2fwww.googleapis.com%2fauth%2fpeopleapi.readonly\n",
            "\n",
            "Enter your authorization code:\n",
            "··········\n",
            "Mounted at /content/gdrive\n"
          ],
          "name": "stdout"
        }
      ]
    },
    {
      "cell_type": "markdown",
      "metadata": {
        "id": "vXcqEqmZPvOY",
        "colab_type": "text"
      },
      "source": [
        "**Importing few dependencies/libraries**"
      ]
    },
    {
      "cell_type": "code",
      "metadata": {
        "id": "FLzEb9DiMKwg",
        "colab_type": "code",
        "outputId": "87bbbcdb-70ae-4b21-943a-ae123238ee5a",
        "colab": {
          "base_uri": "https://localhost:8080/",
          "height": 81
        }
      },
      "source": [
        "import numpy as np\n",
        "import matplotlib.pyplot as plt\n",
        "import os\n",
        "import cv2\n",
        "import keras\n",
        "from keras.layers import Dense, Activation, Conv2D, Flatten, Dropout, MaxPooling2D\n",
        "from keras.applications import InceptionV3\n",
        "from keras.applications.inception_v3 import preprocess_input #importing preprocessing unit for inceptionv3 has a different syntax\n",
        "from keras.preprocessing import image\n",
        "from keras.preprocessing.image import ImageDataGenerator, array_to_img, img_to_array, load_img\n",
        "from keras.models import Model, Sequential\n",
        "from keras.optimizers import Adam\n",
        "from keras.callbacks import ModelCheckpoint # to save our model"
      ],
      "execution_count": 2,
      "outputs": [
        {
          "output_type": "stream",
          "text": [
            "Using TensorFlow backend.\n"
          ],
          "name": "stderr"
        },
        {
          "output_type": "display_data",
          "data": {
            "text/html": [
              "<p style=\"color: red;\">\n",
              "The default version of TensorFlow in Colab will soon switch to TensorFlow 2.x.<br>\n",
              "We recommend you <a href=\"https://www.tensorflow.org/guide/migrate\" target=\"_blank\">upgrade</a> now \n",
              "or ensure your notebook will continue to use TensorFlow 1.x via the <code>%tensorflow_version 1.x</code> magic:\n",
              "<a href=\"https://colab.research.google.com/notebooks/tensorflow_version.ipynb\" target=\"_blank\">more info</a>.</p>\n"
            ],
            "text/plain": [
              "<IPython.core.display.HTML object>"
            ]
          },
          "metadata": {
            "tags": []
          }
        }
      ]
    },
    {
      "cell_type": "code",
      "metadata": {
        "id": "X7c-xMmF09vW",
        "colab_type": "code",
        "colab": {}
      },
      "source": [
        "datagen = ImageDataGenerator(rescale=1./255,\n",
        "      rotation_range=40,\n",
        "      width_shift_range=0.2,\n",
        "      height_shift_range=0.2,\n",
        "      shear_range=0.2,\n",
        "      zoom_range=0.2,\n",
        "      horizontal_flip=True,\n",
        "      fill_mode='nearest')"
      ],
      "execution_count": 0,
      "outputs": []
    },
    {
      "cell_type": "markdown",
      "metadata": {
        "id": "tqu439EScuke",
        "colab_type": "text"
      },
      "source": [
        "**Creating batch of train images :**"
      ]
    },
    {
      "cell_type": "code",
      "metadata": {
        "id": "3LDXWxG3Tvd1",
        "colab_type": "code",
        "outputId": "0ea6b1c8-87bd-4657-ec20-8b63efe62934",
        "colab": {
          "base_uri": "https://localhost:8080/",
          "height": 34
        }
      },
      "source": [
        "train_generator = datagen.flow_from_directory('/content/gdrive/My Drive/vada_pav/dataset/train', # this is where you specify the path to the main data folder\n",
        "                                                 target_size = (224,224),\n",
        "                                                 color_mode = 'rgb',\n",
        "                                                 batch_size = 32,\n",
        "                                                 shuffle = True)"
      ],
      "execution_count": 20,
      "outputs": [
        {
          "output_type": "stream",
          "text": [
            "Found 658 images belonging to 2 classes.\n"
          ],
          "name": "stdout"
        }
      ]
    },
    {
      "cell_type": "markdown",
      "metadata": {
        "id": "ZOcb_sysP6rv",
        "colab_type": "text"
      },
      "source": [
        "**Creating batch of test images**"
      ]
    },
    {
      "cell_type": "code",
      "metadata": {
        "id": "2SEf7wy5UBdP",
        "colab_type": "code",
        "outputId": "e290274c-74e8-4957-db9c-4bd6604a3c23",
        "colab": {
          "base_uri": "https://localhost:8080/",
          "height": 34
        }
      },
      "source": [
        "test_generator = datagen.flow_from_directory('/content/gdrive/My Drive/vada_pav/dataset/test', # this is where you specify the path to the main data folder\n",
        "                                                 target_size = (224,224),\n",
        "                                                 color_mode = 'rgb',\n",
        "                                                 batch_size = 32,\n",
        "                                                 shuffle = True)"
      ],
      "execution_count": 21,
      "outputs": [
        {
          "output_type": "stream",
          "text": [
            "Found 159 images belonging to 2 classes.\n"
          ],
          "name": "stdout"
        }
      ]
    },
    {
      "cell_type": "markdown",
      "metadata": {
        "id": "D_ovhAv2dDTf",
        "colab_type": "text"
      },
      "source": [
        "**Architechture Construction :\n",
        "Using InceptionV3 as the base for the model. Then added FC and Dense layer to it, with 2 output classes i.e vada_pav and not_vada_pav.**"
      ]
    },
    {
      "cell_type": "code",
      "metadata": {
        "id": "uoR4MbukeCTs",
        "colab_type": "code",
        "colab": {}
      },
      "source": [
        "base_model = InceptionV3(weights = 'imagenet',include_top = False, input_shape = (224,224,3))\n",
        "x = Flatten()(base_model.output)\n",
        "x = Dense(2, activation = 'softmax')(x)\n",
        "\n",
        "model = Model(base_model.input, x)"
      ],
      "execution_count": 0,
      "outputs": []
    },
    {
      "cell_type": "markdown",
      "metadata": {
        "id": "3CWmwsZaRg_r",
        "colab_type": "text"
      },
      "source": [
        "**Now we would be only training last few layers and keep the weights of InceptionV3 intact.**"
      ]
    },
    {
      "cell_type": "code",
      "metadata": {
        "id": "1hlpAe8Hk0k4",
        "colab_type": "code",
        "colab": {}
      },
      "source": [
        "for layer in base_model.layers:\n",
        "    layer.trainable = False\n"
      ],
      "execution_count": 0,
      "outputs": []
    },
    {
      "cell_type": "markdown",
      "metadata": {
        "id": "bsz83yVvdkWA",
        "colab_type": "text"
      },
      "source": [
        "**Compiling the model :**"
      ]
    },
    {
      "cell_type": "code",
      "metadata": {
        "id": "qomLwH4PuMIv",
        "colab_type": "code",
        "colab": {}
      },
      "source": [
        "model.compile(optimizer = Adam(lr=0.001), loss = 'categorical_crossentropy', metrics = ['accuracy'])"
      ],
      "execution_count": 0,
      "outputs": []
    },
    {
      "cell_type": "markdown",
      "metadata": {
        "id": "0Mj4jSWZdrv-",
        "colab_type": "text"
      },
      "source": [
        "**Checkpointing for better training**"
      ]
    },
    {
      "cell_type": "code",
      "metadata": {
        "id": "U2gTZEQIwUpP",
        "colab_type": "code",
        "colab": {}
      },
      "source": [
        "checkpointer = ModelCheckpoint(filepath = '/content/gdrive/My Drive/vada_pav/weights.hdf5', verbose=1, save_best_only=True)"
      ],
      "execution_count": 0,
      "outputs": []
    },
    {
      "cell_type": "code",
      "metadata": {
        "id": "2Q0KagStysyF",
        "colab_type": "code",
        "colab": {}
      },
      "source": [
        "step_size_train = train_generator.n//train_generator.batch_size"
      ],
      "execution_count": 0,
      "outputs": []
    },
    {
      "cell_type": "markdown",
      "metadata": {
        "id": "eoZ8VSXz1QMQ",
        "colab_type": "text"
      },
      "source": [
        "**Few images are corrupted in my dataset even after cleaning. Hence following lines would solve the issue. Otherwise, a \"image file is truncated\" error will occur.**"
      ]
    },
    {
      "cell_type": "code",
      "metadata": {
        "id": "ZfLtLgT31I0k",
        "colab_type": "code",
        "colab": {}
      },
      "source": [
        "from PIL import ImageFile\n",
        "ImageFile.LOAD_TRUNCATED_IMAGES = True"
      ],
      "execution_count": 0,
      "outputs": []
    },
    {
      "cell_type": "markdown",
      "metadata": {
        "id": "DixF50xghwLZ",
        "colab_type": "text"
      },
      "source": [
        "**Now Training the above model** : "
      ]
    },
    {
      "cell_type": "code",
      "metadata": {
        "id": "h91ALuYTxA6p",
        "colab_type": "code",
        "outputId": "5c23549c-3b0d-4af2-bfb3-91093840341d",
        "colab": {
          "base_uri": "https://localhost:8080/",
          "height": 801
        }
      },
      "source": [
        "history = model.fit(train_generator, epochs=20, callbacks=[checkpointer], steps_per_epoch = step_size_train)"
      ],
      "execution_count": 29,
      "outputs": [
        {
          "output_type": "stream",
          "text": [
            "Epoch 1/20\n",
            "15/20 [=====================>........] - ETA: 4s - loss: 1.7901 - acc: 0.6896"
          ],
          "name": "stdout"
        },
        {
          "output_type": "stream",
          "text": [
            "/usr/local/lib/python3.6/dist-packages/PIL/Image.py:914: UserWarning: Palette images with Transparency   expressed in bytes should be converted to RGBA images\n",
            "  'to RGBA images')\n"
          ],
          "name": "stderr"
        },
        {
          "output_type": "stream",
          "text": [
            "20/20 [==============================] - 15s 752ms/step - loss: 1.6099 - acc: 0.7118\n",
            "Epoch 2/20\n"
          ],
          "name": "stdout"
        },
        {
          "output_type": "stream",
          "text": [
            "/usr/local/lib/python3.6/dist-packages/keras/callbacks.py:707: RuntimeWarning: Can save best model only with val_loss available, skipping.\n",
            "  'skipping.' % (self.monitor), RuntimeWarning)\n"
          ],
          "name": "stderr"
        },
        {
          "output_type": "stream",
          "text": [
            "20/20 [==============================] - 13s 655ms/step - loss: 1.0958 - acc: 0.7960\n",
            "Epoch 3/20\n",
            "20/20 [==============================] - 14s 682ms/step - loss: 1.2207 - acc: 0.8186\n",
            "Epoch 4/20\n",
            "20/20 [==============================] - 13s 630ms/step - loss: 0.6752 - acc: 0.8601\n",
            "Epoch 5/20\n",
            "20/20 [==============================] - 14s 695ms/step - loss: 0.6049 - acc: 0.8797\n",
            "Epoch 6/20\n",
            "20/20 [==============================] - 13s 671ms/step - loss: 0.5255 - acc: 0.9022\n",
            "Epoch 7/20\n",
            "20/20 [==============================] - 13s 669ms/step - loss: 0.4968 - acc: 0.8953\n",
            "Epoch 8/20\n",
            "20/20 [==============================] - 13s 648ms/step - loss: 0.5230 - acc: 0.9061\n",
            "Epoch 9/20\n",
            "20/20 [==============================] - 14s 700ms/step - loss: 0.6227 - acc: 0.8675\n",
            "Epoch 10/20\n",
            "20/20 [==============================] - 12s 622ms/step - loss: 0.4409 - acc: 0.9155\n",
            "Epoch 11/20\n",
            "20/20 [==============================] - 13s 659ms/step - loss: 0.4762 - acc: 0.9125\n",
            "Epoch 12/20\n",
            "20/20 [==============================] - 14s 692ms/step - loss: 0.2751 - acc: 0.9316\n",
            "Epoch 13/20\n",
            "20/20 [==============================] - 13s 673ms/step - loss: 0.3174 - acc: 0.9233\n",
            "Epoch 14/20\n",
            "20/20 [==============================] - 13s 664ms/step - loss: 0.6136 - acc: 0.8808\n",
            "Epoch 15/20\n",
            "20/20 [==============================] - 13s 662ms/step - loss: 0.2728 - acc: 0.9280\n",
            "Epoch 16/20\n",
            "20/20 [==============================] - 14s 677ms/step - loss: 0.3266 - acc: 0.9266\n",
            "Epoch 17/20\n",
            "20/20 [==============================] - 13s 674ms/step - loss: 0.3708 - acc: 0.9183\n",
            "Epoch 18/20\n",
            "20/20 [==============================] - 14s 697ms/step - loss: 0.5156 - acc: 0.9050\n",
            "Epoch 19/20\n",
            "20/20 [==============================] - 13s 668ms/step - loss: 0.3019 - acc: 0.9359\n",
            "Epoch 20/20\n",
            "20/20 [==============================] - 13s 670ms/step - loss: 0.9413 - acc: 0.8706\n"
          ],
          "name": "stdout"
        }
      ]
    },
    {
      "cell_type": "markdown",
      "metadata": {
        "id": "s1OMymsqhy9Y",
        "colab_type": "text"
      },
      "source": [
        "**Evaluation (on unseen data) :**"
      ]
    },
    {
      "cell_type": "code",
      "metadata": {
        "id": "fWDpx_AEgPk2",
        "colab_type": "code",
        "outputId": "b90032f2-e262-41db-eac2-4540706d9e8b",
        "colab": {
          "base_uri": "https://localhost:8080/",
          "height": 34
        }
      },
      "source": [
        "step_size_test = test_generator.n//test_generator.batch_size\n",
        "model.evaluate_generator(test_generator, verbose=2, steps=step_size_test)"
      ],
      "execution_count": 40,
      "outputs": [
        {
          "output_type": "execute_result",
          "data": {
            "text/plain": [
              "[2.625926151871681, 0.8125]"
            ]
          },
          "metadata": {
            "tags": []
          },
          "execution_count": 40
        }
      ]
    },
    {
      "cell_type": "markdown",
      "metadata": {
        "id": "lnMZUk42iobH",
        "colab_type": "text"
      },
      "source": [
        "**Predictions :**"
      ]
    },
    {
      "cell_type": "code",
      "metadata": {
        "id": "9HLON0CaCvNr",
        "colab_type": "code",
        "outputId": "d023b659-64fc-4056-eabd-2e8f502e4b7e",
        "colab": {
          "base_uri": "https://localhost:8080/",
          "height": 34
        }
      },
      "source": [
        "test_generator.reset()\n",
        "preds = model.predict_generator(test_generator, steps= step_size_test, verbose=1)"
      ],
      "execution_count": 43,
      "outputs": [
        {
          "output_type": "stream",
          "text": [
            "4/4 [==============================] - 4s 1s/step\n"
          ],
          "name": "stdout"
        }
      ]
    },
    {
      "cell_type": "code",
      "metadata": {
        "id": "AuYe0CNnDRwp",
        "colab_type": "code",
        "colab": {}
      },
      "source": [
        "predicted_class_indices = np.argmax(preds,axis=1) # These are labels created after predictions\n",
        "\n",
        "labels = (test_generator.class_indices) \n",
        "labels = dict((v,k) for k,v in labels.items())\n",
        "predictions = [labels[k] for k in predicted_class_indices] #These are true labels from test set. Feteching them from my folder's name"
      ],
      "execution_count": 0,
      "outputs": []
    },
    {
      "cell_type": "markdown",
      "metadata": {
        "id": "xVHGo5TF8l5f",
        "colab_type": "text"
      },
      "source": [
        "**Visualization of accuracy and loss**"
      ]
    },
    {
      "cell_type": "code",
      "metadata": {
        "id": "eyfUo8_X8lP0",
        "colab_type": "code",
        "colab": {
          "base_uri": "https://localhost:8080/",
          "height": 573
        },
        "outputId": "544926b8-f42c-4f93-f36b-03fef4f16e90"
      },
      "source": [
        "# Plot training & validation accuracy values\n",
        "plt.plot(history.history['acc'])\n",
        "plt.title('Model accuracy')\n",
        "plt.ylabel('Accuracy')\n",
        "plt.xlabel('Epoch')\n",
        "plt.legend(['Train', 'Test'], loc='upper left')\n",
        "plt.show()\n",
        "\n",
        "# Plot training & validation loss values\n",
        "plt.plot(history.history['loss'])\n",
        "plt.title('Model loss')\n",
        "plt.ylabel('Loss')\n",
        "plt.xlabel('Epoch')\n",
        "plt.legend(['Train', 'Test'], loc='upper left')\n",
        "plt.show()"
      ],
      "execution_count": 47,
      "outputs": [
        {
          "output_type": "display_data",
          "data": {
            "image/png": "[encoded data removed]",
            "text/plain": [
              "<Figure size 432x288 with 1 Axes>"
            ]
          },
          "metadata": {
            "tags": []
          }
        },
        {
          "output_type": "display_data",
          "data": {
            "image/png": "[encoded data removed]",
            "text/plain": [
              "<Figure size 432x288 with 1 Axes>"
            ]
          },
          "metadata": {
            "tags": []
          }
        }
      ]
    },
    {
      "cell_type": "markdown",
      "metadata": {
        "id": "EN6Oi51xp29d",
        "colab_type": "text"
      },
      "source": [
        "**Saving the model :**"
      ]
    },
    {
      "cell_type": "code",
      "metadata": {
        "id": "1t7kfO2f-05j",
        "colab_type": "code",
        "colab": {}
      },
      "source": [
        "model.save('/content/gdrive/My Drive/vada_pav/weights.hdf5')"
      ],
      "execution_count": 0,
      "outputs": []
    }
  ]
}